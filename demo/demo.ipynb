{
 "cells": [
  {
   "cell_type": "code",
   "execution_count": 3,
   "metadata": {
    "collapsed": true
   },
   "outputs": [],
   "source": [
    "# IndoWordNet API can be imported like this.\n",
    "from pyiwn import pyiwn"
   ]
  },
  {
   "cell_type": "code",
   "execution_count": 4,
   "metadata": {},
   "outputs": [
    {
     "name": "stdout",
     "output_type": "stream",
     "text": [
      "Downloading pyiwn data (80 MB)...\n",
      "Extracting pyiwn data...\n",
      "Download successful.\n"
     ]
    }
   ],
   "source": [
    "# Download the IndoWordNet data (80 MB). It will download all the data in 'pyiwn_data' directory in the home directory.\n",
    "pyiwn.download()"
   ]
  },
  {
   "cell_type": "code",
   "execution_count": 5,
   "metadata": {},
   "outputs": [
    {
     "data": {
      "text/plain": [
       "['hindi',\n",
       " 'english',\n",
       " 'assamese',\n",
       " 'bengali',\n",
       " 'bodo',\n",
       " 'gujarati',\n",
       " 'kannada',\n",
       " 'kashmiri',\n",
       " 'konkani',\n",
       " 'malayalam',\n",
       " 'meitei',\n",
       " 'marathi',\n",
       " 'nepali',\n",
       " 'sanskrit',\n",
       " 'tamil',\n",
       " 'telugu',\n",
       " 'punjabi',\n",
       " 'urdu',\n",
       " 'oriya']"
      ]
     },
     "execution_count": 5,
     "metadata": {},
     "output_type": "execute_result"
    }
   ],
   "source": [
    "# List of supported languages in IndoWordNet. Returns a list.\n",
    "pyiwn.langs()"
   ]
  },
  {
   "cell_type": "code",
   "execution_count": 6,
   "metadata": {
    "collapsed": true
   },
   "outputs": [],
   "source": [
    "# Choose a language and create an object of the IndoWordNet class.\n",
    "iwn = pyiwn.IndoWordNet('hindi')"
   ]
  },
  {
   "cell_type": "code",
   "execution_count": 7,
   "metadata": {},
   "outputs": [
    {
     "data": {
      "text/plain": [
       "[Synset('व्यवस्थित.adjective.1004')]"
      ]
     },
     "execution_count": 7,
     "metadata": {},
     "output_type": "execute_result"
    }
   ],
   "source": [
    "# Look up a word using synsets(). Returns a list of Synset objects.\n",
    "iwn.synsets('व्यवस्थित')"
   ]
  },
  {
   "cell_type": "code",
   "execution_count": 8,
   "metadata": {},
   "outputs": [
    {
     "data": {
      "text/plain": [
       "[Synset('व्यवस्थित.adjective.1004')]"
      ]
     },
     "execution_count": 8,
     "metadata": {},
     "output_type": "execute_result"
    }
   ],
   "source": [
    "# synsets() function has an optional pos argument which lets you constrain the part of speech of the word.\n",
    "iwn.synsets('व्यवस्थित', pos=pyiwn.ADJECTIVE)"
   ]
  },
  {
   "cell_type": "code",
   "execution_count": 9,
   "metadata": {},
   "outputs": [
    {
     "data": {
      "text/plain": [
       "'adverb'"
      ]
     },
     "execution_count": 9,
     "metadata": {},
     "output_type": "execute_result"
    }
   ],
   "source": [
    "# You can access part of speech tags from pyiwn module as\n",
    "pyiwn.NOUN\n",
    "pyiwn.VERB\n",
    "pyiwn.ADJECTIVE\n",
    "pyiwn.ADVERB"
   ]
  },
  {
   "cell_type": "code",
   "execution_count": 10,
   "metadata": {},
   "outputs": [
    {
     "name": "stdout",
     "output_type": "stream",
     "text": [
      "1004\n",
      "व्यवस्थित\n",
      "['व्यवस्थित', 'प्रबंधित', 'विन्यस्त', 'ठीक', 'सलीकेदार', 'तरतीबदार', 'समाहित', 'व्यवस्थागत']\n",
      "[Lemma('व्यवस्थित.adjective.1004.व्यवस्थित'), Lemma('व्यवस्थित.adjective.1004.प्रबंधित'), Lemma('व्यवस्थित.adjective.1004.विन्यस्त'), Lemma('व्यवस्थित.adjective.1004.ठीक'), Lemma('व्यवस्थित.adjective.1004.सलीकेदार'), Lemma('व्यवस्थित.adjective.1004.तरतीबदार'), Lemma('व्यवस्थित.adjective.1004.समाहित'), Lemma('व्यवस्थित.adjective.1004.व्यवस्थागत')]\n",
      "adjective\n",
      "जिसमें किसी प्रकार की व्यवस्था या नियम हो\n",
      "['उसने कमरे की व्यवस्थित वस्तुओं को बिखेर दिया ।']\n",
      "['गुणसूचक (Qualitative) QUAL   उदाहरण :- बुद्धिमान, अच्छा, मूर्ख इत्यादि']\n"
     ]
    }
   ],
   "source": [
    "# Synset Properties\n",
    "\n",
    "syns = iwn.synsets('व्यवस्थित', pos=pyiwn.ADJECTIVE)\n",
    "syn = syns[0]\n",
    "\n",
    "# Synset ID. Returns an int.\n",
    "print(syn.synset_id())\n",
    "\n",
    "# Head Word. Returns a string.\n",
    "print(syn.head_word())\n",
    "\n",
    "# Lemmas. Returns a list of Lemma objects\n",
    "print(syn.lemma_names())\n",
    "print(syn.lemmas())\n",
    "\n",
    "# Part of Speech Tag. Returns a string.\n",
    "print(syn.pos())\n",
    "\n",
    "# Definition of the Synset. Returns a string.\n",
    "print(syn.gloss())\n",
    "\n",
    "# Examples of the Synset. Returns a list of example strings.\n",
    "print(syn.examples())\n",
    "\n",
    "# Ontology nodes. Returns a string denoting the name of the node.\n",
    "print(syn.ontology_nodes())"
   ]
  },
  {
   "cell_type": "code",
   "execution_count": 11,
   "metadata": {},
   "outputs": [
    {
     "name": "stdout",
     "output_type": "stream",
     "text": [
      "[Synset('देवालय.noun.451')]\n"
     ]
    }
   ],
   "source": [
    "# Synset Relations\n",
    "\n",
    "syns = iwn.synsets('शिवालय', pos=pyiwn.NOUN)\n",
    "syn = syns[0]\n",
    "\n",
    "# Hypernymy relation\n",
    "print(syn.hypernymy())\n",
    "\n",
    "# Similarly, other relations can be accessed, for complete list of relations, please see: https://github.com/riteshpanjwani/pyiwn/blob/master/SYNSET-RELATIONS.md"
   ]
  },
  {
   "cell_type": "code",
   "execution_count": 12,
   "metadata": {},
   "outputs": [
    {
     "name": "stdout",
     "output_type": "stream",
     "text": [
      "[Lemma('सुबह.noun.26824.सुबह')]\n",
      "सुबह\n",
      "Synset('सुबह.noun.26824')\n",
      "hindi\n",
      "{'low': Synset('दोपहर.noun.6195'), 'medium': Synset('शाम.noun.8164'), 'high': Synset('सुबह.noun.26824')}\n",
      "[Synset('शाम.noun.8164')]\n"
     ]
    }
   ],
   "source": [
    "# Lemmas\n",
    "\n",
    "syn = iwn.synsets('सुबह', pos=pyiwn.NOUN)[1]\n",
    "\n",
    "lemmas = syn.lemmas() # returns a list of objects of Lemma class\n",
    "print(lemmas)\n",
    "lemma = lemmas[0]\n",
    "\n",
    "# Lemma Properties\n",
    "\n",
    "# Returns raw string of the lemma.\n",
    "print(lemma.name())\n",
    "\n",
    "# Returns an object of the Synset class the lemma belongs to.\n",
    "print(lemma.synset())\n",
    "\n",
    "# Returns the language of the lemma.\n",
    "print(lemma.lang())\n",
    "\n",
    "# Returns low, medium and high gradation property of words\n",
    "print(syn.lemmas()[0].gradation())\n",
    "\n",
    "# Returns antonym of a given lemma\n",
    "print(syn.lemmas()[0].antonym())"
   ]
  },
  {
   "cell_type": "code",
   "execution_count": 5,
   "metadata": {},
   "outputs": [
    {
     "name": "stdout",
     "output_type": "stream",
     "text": [
      "40891\n"
     ]
    }
   ],
   "source": [
    "# All Synsets\n",
    "\n",
    "syns = iwn.all_synsets()\n",
    "print(len(syns))"
   ]
  },
  {
   "cell_type": "code",
   "execution_count": 7,
   "metadata": {},
   "outputs": [
    {
     "name": "stdout",
     "output_type": "stream",
     "text": [
      "29846\n"
     ]
    }
   ],
   "source": [
    "# All Synsets filtered by a Part of Speech tag\n",
    "\n",
    "syns = iwn.all_synsets(pos=pyiwn.NOUN)\n",
    "print(len(syns))"
   ]
  },
  {
   "cell_type": "code",
   "execution_count": 13,
   "metadata": {},
   "outputs": [
    {
     "name": "stdout",
     "output_type": "stream",
     "text": [
      "152984\n"
     ]
    }
   ],
   "source": [
    "# List of all the unique words in the WordNet\n",
    "\n",
    "words = iwn.all_words()\n",
    "print(len(words))"
   ]
  },
  {
   "cell_type": "code",
   "execution_count": 14,
   "metadata": {},
   "outputs": [
    {
     "name": "stdout",
     "output_type": "stream",
     "text": [
      "112946\n"
     ]
    }
   ],
   "source": [
    "# List of all the unique words in the WordNet filtered by a Part of Speech tag\n",
    "\n",
    "words = iwn.all_words(pos=pyiwn.NOUN)\n",
    "print(len(words))"
   ]
  }
 ],
 "metadata": {
  "kernelspec": {
   "display_name": "Python 3",
   "language": "python",
   "name": "python3"
  },
  "language_info": {
   "codemirror_mode": {
    "name": "ipython",
    "version": 3
   },
   "file_extension": ".py",
   "mimetype": "text/x-python",
   "name": "python",
   "nbconvert_exporter": "python",
   "pygments_lexer": "ipython3",
   "version": "3.6.1"
  }
 },
 "nbformat": 4,
 "nbformat_minor": 2
}
